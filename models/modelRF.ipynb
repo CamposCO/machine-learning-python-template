{
  "cells": [
    {
      "cell_type": "code",
      "execution_count": null,
      "metadata": {
        "id": "OlV1qeTGcIoN"
      },
      "outputs": [],
      "source": [
        "import pandas as pd\n",
        "import matplotlib.pyplot as plt\n",
        "import seaborn as sns\n",
        "import numpy as np\n",
        "from scipy import stats\n",
        "from tableone import TableOne, load_dataset\n",
        "from sklearn.preprocessing import StandardScaler\n",
        "from sklearn.ensemble import RandomForestClassifier\n",
        "from sklearn.tree import DecisionTreeClassifier\n",
        "from sklearn.metrics import classification_report\n",
        "from sklearn.model_selection import RepeatedStratifiedKFold\n",
        "from sklearn.model_selection import GridSearchCV\n",
        "from imblearn.under_sampling import RandomUnderSampler"
      ]
    },
    {
      "cell_type": "code",
      "execution_count": null,
      "metadata": {
        "id": "yKiSnoO3cIoN"
      },
      "outputs": [],
      "source": [
        "def is_binary(df_, nums):\n",
        "    df = df_.copy()\n",
        "    variables = []\n",
        "    for var in nums:\n",
        "        flag = True\n",
        "        unique = df_[var].unique()\n",
        "        for value in unique:\n",
        "            if value not in [0, 1, np.nan, 0.0, 1.0]:\n",
        "                flag = False\n",
        "        if flag == True:\n",
        "            variables.append(var)\n",
        "    return variables\n",
        "\n",
        "def breakdown_vars(df, off_binary=False):\n",
        "    \"\"\"\n",
        "    This function allow us categorize accodign to numerical or not\n",
        "    \"\"\"\n",
        "    binaries = is_binary(df, df.columns)\n",
        "    categorial = []\n",
        "    nonormal = []\n",
        "    normal = []\n",
        "    for t in df.columns:\n",
        "        if off_binary == False:\n",
        "          if (df[t].dtypes.name==\"object\" or df[t].dtypes.name=='category') and  t not in binaries:\n",
        "            categorial.append(t)\n",
        "        else:\n",
        "           if (df[t].dtypes.name==\"object\" or df[t].dtypes.name=='category'):\n",
        "            categorial.append(t)\n",
        "        if (df[t].dtypes==\"int64\" or df[t].dtypes==\"float64\") and t not in binaries:\n",
        "                n,p = stats.shapiro(df[t])\n",
        "                if p<0.05:\n",
        "                    nonormal.append(t)\n",
        "                else:\n",
        "                    normal.append(t)\n",
        "    if off_binary == False:\n",
        "      return categorial, binaries, nonormal, normal\n",
        "    else:\n",
        "      return categorial, nonormal, normal"
      ]
    },
    {
      "cell_type": "code",
      "execution_count": null,
      "metadata": {
        "id": "nduZh2VJcIoO"
      },
      "outputs": [],
      "source": [
        "url='https://raw.githubusercontent.com/4GeeksAcademy/decision-tree-project-tutorial/main/diabetes.csv'"
      ]
    },
    {
      "cell_type": "code",
      "execution_count": null,
      "metadata": {
        "id": "cEPBN-v3cIoP",
        "outputId": "42f06d6e-1439-4218-f6f7-89e4135167fb"
      },
      "outputs": [
        {
          "data": {
            "text/html": [
              "<div>\n",
              "<style scoped>\n",
              "    .dataframe tbody tr th:only-of-type {\n",
              "        vertical-align: middle;\n",
              "    }\n",
              "\n",
              "    .dataframe tbody tr th {\n",
              "        vertical-align: top;\n",
              "    }\n",
              "\n",
              "    .dataframe thead th {\n",
              "        text-align: right;\n",
              "    }\n",
              "</style>\n",
              "<table border=\"1\" class=\"dataframe\">\n",
              "  <thead>\n",
              "    <tr style=\"text-align: right;\">\n",
              "      <th></th>\n",
              "      <th>Pregnancies</th>\n",
              "      <th>Glucose</th>\n",
              "      <th>BloodPressure</th>\n",
              "      <th>SkinThickness</th>\n",
              "      <th>Insulin</th>\n",
              "      <th>BMI</th>\n",
              "      <th>DiabetesPedigreeFunction</th>\n",
              "      <th>Age</th>\n",
              "      <th>Outcome</th>\n",
              "    </tr>\n",
              "  </thead>\n",
              "  <tbody>\n",
              "    <tr>\n",
              "      <th>0</th>\n",
              "      <td>6</td>\n",
              "      <td>148</td>\n",
              "      <td>72</td>\n",
              "      <td>35</td>\n",
              "      <td>0</td>\n",
              "      <td>33.6</td>\n",
              "      <td>0.627</td>\n",
              "      <td>50</td>\n",
              "      <td>1</td>\n",
              "    </tr>\n",
              "    <tr>\n",
              "      <th>1</th>\n",
              "      <td>1</td>\n",
              "      <td>85</td>\n",
              "      <td>66</td>\n",
              "      <td>29</td>\n",
              "      <td>0</td>\n",
              "      <td>26.6</td>\n",
              "      <td>0.351</td>\n",
              "      <td>31</td>\n",
              "      <td>0</td>\n",
              "    </tr>\n",
              "    <tr>\n",
              "      <th>2</th>\n",
              "      <td>8</td>\n",
              "      <td>183</td>\n",
              "      <td>64</td>\n",
              "      <td>0</td>\n",
              "      <td>0</td>\n",
              "      <td>23.3</td>\n",
              "      <td>0.672</td>\n",
              "      <td>32</td>\n",
              "      <td>1</td>\n",
              "    </tr>\n",
              "    <tr>\n",
              "      <th>3</th>\n",
              "      <td>1</td>\n",
              "      <td>89</td>\n",
              "      <td>66</td>\n",
              "      <td>23</td>\n",
              "      <td>94</td>\n",
              "      <td>28.1</td>\n",
              "      <td>0.167</td>\n",
              "      <td>21</td>\n",
              "      <td>0</td>\n",
              "    </tr>\n",
              "    <tr>\n",
              "      <th>4</th>\n",
              "      <td>0</td>\n",
              "      <td>137</td>\n",
              "      <td>40</td>\n",
              "      <td>35</td>\n",
              "      <td>168</td>\n",
              "      <td>43.1</td>\n",
              "      <td>2.288</td>\n",
              "      <td>33</td>\n",
              "      <td>1</td>\n",
              "    </tr>\n",
              "    <tr>\n",
              "      <th>...</th>\n",
              "      <td>...</td>\n",
              "      <td>...</td>\n",
              "      <td>...</td>\n",
              "      <td>...</td>\n",
              "      <td>...</td>\n",
              "      <td>...</td>\n",
              "      <td>...</td>\n",
              "      <td>...</td>\n",
              "      <td>...</td>\n",
              "    </tr>\n",
              "    <tr>\n",
              "      <th>763</th>\n",
              "      <td>10</td>\n",
              "      <td>101</td>\n",
              "      <td>76</td>\n",
              "      <td>48</td>\n",
              "      <td>180</td>\n",
              "      <td>32.9</td>\n",
              "      <td>0.171</td>\n",
              "      <td>63</td>\n",
              "      <td>0</td>\n",
              "    </tr>\n",
              "    <tr>\n",
              "      <th>764</th>\n",
              "      <td>2</td>\n",
              "      <td>122</td>\n",
              "      <td>70</td>\n",
              "      <td>27</td>\n",
              "      <td>0</td>\n",
              "      <td>36.8</td>\n",
              "      <td>0.340</td>\n",
              "      <td>27</td>\n",
              "      <td>0</td>\n",
              "    </tr>\n",
              "    <tr>\n",
              "      <th>765</th>\n",
              "      <td>5</td>\n",
              "      <td>121</td>\n",
              "      <td>72</td>\n",
              "      <td>23</td>\n",
              "      <td>112</td>\n",
              "      <td>26.2</td>\n",
              "      <td>0.245</td>\n",
              "      <td>30</td>\n",
              "      <td>0</td>\n",
              "    </tr>\n",
              "    <tr>\n",
              "      <th>766</th>\n",
              "      <td>1</td>\n",
              "      <td>126</td>\n",
              "      <td>60</td>\n",
              "      <td>0</td>\n",
              "      <td>0</td>\n",
              "      <td>30.1</td>\n",
              "      <td>0.349</td>\n",
              "      <td>47</td>\n",
              "      <td>1</td>\n",
              "    </tr>\n",
              "    <tr>\n",
              "      <th>767</th>\n",
              "      <td>1</td>\n",
              "      <td>93</td>\n",
              "      <td>70</td>\n",
              "      <td>31</td>\n",
              "      <td>0</td>\n",
              "      <td>30.4</td>\n",
              "      <td>0.315</td>\n",
              "      <td>23</td>\n",
              "      <td>0</td>\n",
              "    </tr>\n",
              "  </tbody>\n",
              "</table>\n",
              "<p>768 rows × 9 columns</p>\n",
              "</div>"
            ],
            "text/plain": [
              "     Pregnancies  Glucose  BloodPressure  SkinThickness  Insulin   BMI  \\\n",
              "0              6      148             72             35        0  33.6   \n",
              "1              1       85             66             29        0  26.6   \n",
              "2              8      183             64              0        0  23.3   \n",
              "3              1       89             66             23       94  28.1   \n",
              "4              0      137             40             35      168  43.1   \n",
              "..           ...      ...            ...            ...      ...   ...   \n",
              "763           10      101             76             48      180  32.9   \n",
              "764            2      122             70             27        0  36.8   \n",
              "765            5      121             72             23      112  26.2   \n",
              "766            1      126             60              0        0  30.1   \n",
              "767            1       93             70             31        0  30.4   \n",
              "\n",
              "     DiabetesPedigreeFunction  Age  Outcome  \n",
              "0                       0.627   50        1  \n",
              "1                       0.351   31        0  \n",
              "2                       0.672   32        1  \n",
              "3                       0.167   21        0  \n",
              "4                       2.288   33        1  \n",
              "..                        ...  ...      ...  \n",
              "763                     0.171   63        0  \n",
              "764                     0.340   27        0  \n",
              "765                     0.245   30        0  \n",
              "766                     0.349   47        1  \n",
              "767                     0.315   23        0  \n",
              "\n",
              "[768 rows x 9 columns]"
            ]
          },
          "execution_count": 7,
          "metadata": {},
          "output_type": "execute_result"
        }
      ],
      "source": [
        "df=pd.read_csv(url)\n",
        "df"
      ]
    },
    {
      "cell_type": "code",
      "execution_count": null,
      "metadata": {
        "id": "nbe29o3XcIoP"
      },
      "outputs": [],
      "source": [
        "X= df.drop(columns='Outcome').copy()\n",
        "y= df['Outcome']"
      ]
    },
    {
      "cell_type": "code",
      "execution_count": null,
      "metadata": {
        "id": "b7RE6FpIcIoQ"
      },
      "outputs": [],
      "source": [
        "for col in X.columns:\n",
        "  mean=df[col].mean()\n",
        "  std=df[col].std()\n",
        "  df[col]=(df[col]-mean)/std"
      ]
    },
    {
      "cell_type": "code",
      "execution_count": null,
      "metadata": {
        "id": "sFu5w2s9cIoQ"
      },
      "outputs": [],
      "source": [
        "cat, nonormal, normal = breakdown_vars(df, off_binary=True)"
      ]
    },
    {
      "cell_type": "code",
      "execution_count": null,
      "metadata": {
        "id": "jdo47FoxcIoR",
        "outputId": "e5a61642-28ea-4308-f8fe-cb3f9fa9c0e5"
      },
      "outputs": [
        {
          "name": "stdout",
          "output_type": "stream",
          "text": [
            "                                          Grouped by Outcome                                                           \n",
            "                                                     Missing          Overall                0                1 P-Value\n",
            "n                                                                         768              500              268        \n",
            "Pregnancies, median [Q1,Q3]                                0  -0.3 [-0.8,0.6]  -0.5 [-0.8,0.3]   0.0 [-0.6,1.2]  <0.001\n",
            "Glucose, median [Q1,Q3]                                    0  -0.1 [-0.7,0.6]  -0.4 [-0.9,0.1]   0.6 [-0.1,1.4]  <0.001\n",
            "BloodPressure, median [Q1,Q3]                              0   0.1 [-0.4,0.6]   0.0 [-0.4,0.5]   0.3 [-0.2,0.7]  <0.001\n",
            "SkinThickness, median [Q1,Q3]                              0   0.2 [-1.3,0.7]   0.0 [-1.3,0.7]   0.4 [-1.3,1.0]   0.013\n",
            "Insulin, median [Q1,Q3]                                    0  -0.4 [-0.7,0.4]  -0.4 [-0.7,0.2]  -0.7 [-0.7,0.8]   0.066\n",
            "BMI, median [Q1,Q3]                                        0   0.0 [-0.6,0.6]  -0.2 [-0.8,0.4]   0.3 [-0.2,0.9]  <0.001\n",
            "DiabetesPedigreeFunction, median [Q1,Q3]                   0  -0.3 [-0.7,0.5]  -0.4 [-0.7,0.3]  -0.1 [-0.6,0.8]  <0.001\n",
            "Age, median [Q1,Q3]                                        0  -0.4 [-0.8,0.7]  -0.5 [-0.9,0.3]   0.2 [-0.4,0.9]  <0.001\n",
            "\n"
          ]
        }
      ],
      "source": [
        "mytable=TableOne(df, categorical=cat, nonnormal=nonormal, groupby='Outcome', pval=True)\n",
        "print(mytable)"
      ]
    },
    {
      "cell_type": "code",
      "execution_count": null,
      "metadata": {
        "id": "qSPTTteCcIoS",
        "outputId": "c4028ad1-6783-465b-82ab-e62ba8c5fba3"
      },
      "outputs": [
        {
          "data": {
            "image/png": "[encoded data removed]",
            "text/plain": [
              "<Figure size 1200x800 with 2 Axes>"
            ]
          },
          "metadata": {},
          "output_type": "display_data"
        }
      ],
      "source": [
        "corrMatrix=df.corr(method='spearman')\n",
        "mask = np.zeros_like(corrMatrix)\n",
        "mask[np.triu_indices_from(mask)]=True\n",
        "with sns.axes_style('white'):\n",
        "  f,ax =plt.subplots(figsize=(12,8))\n",
        "  ax = sns.heatmap(corrMatrix, mask=mask, square=True, annot=True, cmap='gray')"
      ]
    },
    {
      "cell_type": "code",
      "execution_count": null,
      "metadata": {
        "id": "WZUghTm9cIoT"
      },
      "outputs": [],
      "source": [
        "df2=pd.read_csv(url)"
      ]
    },
    {
      "cell_type": "code",
      "execution_count": null,
      "metadata": {
        "id": "RQLkVfXIcIoU"
      },
      "outputs": [],
      "source": [
        "X=df2.drop(columns='Outcome').copy()\n",
        "y=df2['Outcome']\n",
        "\n",
        "from sklearn.model_selection import train_test_split\n",
        "\n",
        "X_train, X_test, y_train, y_test = train_test_split(X,y, test_size=0.20, shuffle=True, random_state=12,stratify=y)"
      ]
    },
    {
      "cell_type": "code",
      "execution_count": null,
      "metadata": {
        "id": "npekOiS_cIoU"
      },
      "outputs": [],
      "source": [
        "scaler=StandardScaler()\n",
        "\n",
        "X_train=scaler.fit_transform(X_train)\n",
        "X_test=scaler.transform(X_test)"
      ]
    },
    {
      "cell_type": "code",
      "execution_count": null,
      "metadata": {
        "id": "exLVcLdscIoV",
        "outputId": "ae27ff5c-34c7-48df-f4b0-feddf8496985"
      },
      "outputs": [
        {
          "name": "stdout",
          "output_type": "stream",
          "text": [
            "              precision    recall  f1-score   support\n",
            "\n",
            "           0       0.83      0.81      0.82       100\n",
            "           1       0.66      0.69      0.67        54\n",
            "\n",
            "    accuracy                           0.77       154\n",
            "   macro avg       0.74      0.75      0.75       154\n",
            "weighted avg       0.77      0.77      0.77       154\n",
            "\n"
          ]
        }
      ],
      "source": [
        "arbol=DecisionTreeClassifier(random_state=12)\n",
        "preds=arbol.fit(X_train,y_train).predict(X_test)\n",
        "print(classification_report(y_test,preds))"
      ]
    },
    {
      "cell_type": "code",
      "execution_count": null,
      "metadata": {
        "id": "-fDgQ9yDcIoV"
      },
      "outputs": [],
      "source": [
        "def grid_RandomForest(X_train, y_train):\n",
        "  model = RandomForestClassifier(random_state=0)\n",
        "  n_estimators = [100,500,1000]\n",
        "  criterion = ['gini', 'entropy', 'log_loss']\n",
        "  min_samples_split = [0.05, 0.1,]\n",
        "  max_depth = [2,3,4]\n",
        "  grid = dict(n_estimators = n_estimators, criterion = criterion,\n",
        "              min_samples_split = min_samples_split, max_depth = max_depth)\n",
        "  cv = RepeatedStratifiedKFold(n_splits=5, n_repeats=1, random_state=1)\n",
        "  grid_search = GridSearchCV(estimator=model, param_grid=grid, n_jobs=-1, cv=cv,\n",
        "                            scoring='f1',error_score='raise')\n",
        "  grid_result = grid_search.fit(X_train, y_train)\n",
        "  return  grid_result.best_estimator_"
      ]
    },
    {
      "cell_type": "code",
      "execution_count": null,
      "metadata": {
        "id": "sx5t4RPMcIoV"
      },
      "outputs": [],
      "source": [
        "rus = RandomUnderSampler(random_state=542)\n",
        "X_train, y_train = rus.fit_resample(X_train, y_train)"
      ]
    },
    {
      "cell_type": "code",
      "execution_count": null,
      "metadata": {
        "id": "YZXTfESfcIoV",
        "outputId": "1ea3bb82-ba50-48e2-9650-00418fb885ef"
      },
      "outputs": [
        {
          "name": "stdout",
          "output_type": "stream",
          "text": [
            "              precision    recall  f1-score   support\n",
            "\n",
            "           0       0.88      0.81      0.84       100\n",
            "           1       0.69      0.80      0.74        54\n",
            "\n",
            "    accuracy                           0.81       154\n",
            "   macro avg       0.79      0.80      0.79       154\n",
            "weighted avg       0.81      0.81      0.81       154\n",
            "\n"
          ]
        }
      ],
      "source": [
        "best_rfc=grid_RandomForest(X_train,y_train)\n",
        "preds3=best_rfc.predict(X_test)\n",
        "print(classification_report(y_test,preds3))"
      ]
    },
    {
      "cell_type": "code",
      "source": [
        "from pickle import dump\n",
        "\n",
        "dump(model, open(\"../models/randomforest_stimator.sav\", \"wb\"))"
      ],
      "metadata": {
        "id": "KvzW3URecKix"
      },
      "execution_count": null,
      "outputs": []
    }
  ],
  "metadata": {
    "kernelspec": {
      "display_name": "Python 3",
      "language": "python",
      "name": "python3"
    },
    "language_info": {
      "codemirror_mode": {
        "name": "ipython",
        "version": 3
      },
      "file_extension": ".py",
      "mimetype": "text/x-python",
      "name": "python",
      "nbconvert_exporter": "python",
      "pygments_lexer": "ipython3",
      "version": "3.10.12"
    },
    "colab": {
      "provenance": []
    }
  },
  "nbformat": 4,
  "nbformat_minor": 0
}